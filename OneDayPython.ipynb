{
 "cells": [
  {
   "cell_type": "markdown",
   "metadata": {},
   "source": [
    "## One Day Python Assignment\n",
    "This is the assignment intended to teach Python from the basics all the way to using Pandas Dataframes. It is not intended to be comprehensive, but rather a survey of the major topics to get the learner from point A to B.    \n",
    "   \n",
    "Part 1 will be worth 100 points and Part 2 will be worth 100 points. There will only be one assignment on Canvas worth 100 points. The final grade for this will be divided by 2 and rounded up.     \n",
    "So if you got 100 on Part 1 and 67 on Part 2, you will have 167 / 2 = 83.5. Extra credit is added onto Part 1, so, again: if you got 110 on Part 1 and 67 on Part 2, you will have 177 / 2 = 90."
   ]
  },
  {
   "cell_type": "markdown",
   "metadata": {},
   "source": [
    "### PART 1"
   ]
  },
  {
   "cell_type": "markdown",
   "metadata": {},
   "source": [
    " 1. Print “Hello World”  (2 pts)"
   ]
  },
  {
   "cell_type": "code",
   "execution_count": 1,
   "metadata": {},
   "outputs": [
    {
     "name": "stdout",
     "output_type": "stream",
     "text": [
      "Hello World\n"
     ]
    }
   ],
   "source": [
    "print(\"Hello World\")"
   ]
  },
  {
   "cell_type": "markdown",
   "metadata": {},
   "source": [
    "2.  Save your age to a variable called “age”    \n",
    "3.  Print “Hello World, I’m (age variable) today.”    (5 pts)"
   ]
  },
  {
   "cell_type": "code",
   "execution_count": 3,
   "metadata": {},
   "outputs": [
    {
     "name": "stdout",
     "output_type": "stream",
     "text": [
      "Hello World, I'm  20  today\n"
     ]
    }
   ],
   "source": [
    "age = 20\n",
    "print(\"Hello World, I'm \", age, \" today\")"
   ]
  },
  {
   "cell_type": "markdown",
   "metadata": {},
   "source": [
    "4. Print “hello world” in all upper case using a Python string method to alter it (4 pts)"
   ]
  },
  {
   "cell_type": "code",
   "execution_count": 5,
   "metadata": {},
   "outputs": [
    {
     "name": "stdout",
     "output_type": "stream",
     "text": [
      "HELLO WORLD\n"
     ]
    }
   ],
   "source": [
    "stringy = \"hello world\"\n",
    "print(stringy.upper())"
   ]
  },
  {
   "cell_type": "markdown",
   "metadata": {},
   "source": [
    " 5. Save any decimal in a variable called a.   \n",
    " Cast a into an int and save it as b.  \n",
    " Cast a into a string and save it as c.   \n",
    " Print each variable and its type.   (11 pts)"
   ]
  },
  {
   "cell_type": "code",
   "execution_count": 8,
   "metadata": {},
   "outputs": [
    {
     "name": "stdout",
     "output_type": "stream",
     "text": [
      "a:  1.5 float\n",
      "b:  1 int\n",
      "c:  1 str\n"
     ]
    }
   ],
   "source": [
    "a = 1.5\n",
    "b = int(a)\n",
    "c = str(b)\n",
    "print(\"a: \", a, type(a).__name__)\n",
    "print(\"b: \", b, type(b).__name__)\n",
    "print(\"c: \", c, type(c).__name__)"
   ]
  },
  {
   "cell_type": "markdown",
   "metadata": {},
   "source": [
    "6. Create a tuple of your favorite things to eat and print it.   (4 pts)"
   ]
  },
  {
   "cell_type": "code",
   "execution_count": 9,
   "metadata": {},
   "outputs": [
    {
     "name": "stdout",
     "output_type": "stream",
     "text": [
      "pizza\n",
      "apples\n",
      "coxinha\n",
      "wraps\n"
     ]
    }
   ],
   "source": [
    "favThings = (\"pizza\", \"apples\", \"coxinha\", \"wraps\")\n",
    "for element in favThings:\n",
    "    print(element)"
   ]
  },
  {
   "cell_type": "markdown",
   "metadata": {},
   "source": [
    "7. Create a dictionary named ‘classes’ with the name of the classes you are taking as the keys and the professors names as the values. \n",
    "Print the dictionary and tuple.   (10 pts)"
   ]
  },
  {
   "cell_type": "code",
   "execution_count": 10,
   "metadata": {},
   "outputs": [
    {
     "name": "stdout",
     "output_type": "stream",
     "text": [
      "{'math': 'Ms. Philhower', 'full stack': 'jaramillo', 'intro to python': 'ionut'}\n"
     ]
    }
   ],
   "source": [
    "classes = {'math': 'Ms. Philhower', 'full stack': 'jaramillo', 'intro to python': 'ionut'}\n",
    "print(classes)"
   ]
  },
  {
   "cell_type": "markdown",
   "metadata": {},
   "source": [
    "8. Create a list called “whole” and put every number in it from 1 - 100  (10 pts)"
   ]
  },
  {
   "cell_type": "code",
   "execution_count": 11,
   "metadata": {},
   "outputs": [
    {
     "name": "stdout",
     "output_type": "stream",
     "text": [
      "[1, 2, 3, 4, 5, 6, 7, 8, 9, 10, 11, 12, 13, 14, 15, 16, 17, 18, 19, 20, 21, 22, 23, 24, 25, 26, 27, 28, 29, 30, 31, 32, 33, 34, 35, 36, 37, 38, 39, 40, 41, 42, 43, 44, 45, 46, 47, 48, 49, 50, 51, 52, 53, 54, 55, 56, 57, 58, 59, 60, 61, 62, 63, 64, 65, 66, 67, 68, 69, 70, 71, 72, 73, 74, 75, 76, 77, 78, 79, 80, 81, 82, 83, 84, 85, 86, 87, 88, 89, 90, 91, 92, 93, 94, 95, 96, 97, 98, 99, 100]\n"
     ]
    }
   ],
   "source": [
    "whole = []\n",
    "for i in range(1, 101):\n",
    "    whole.append(i)\n",
    "print(whole)"
   ]
  },
  {
   "cell_type": "markdown",
   "metadata": {},
   "source": [
    "9. Create 4 empty lists called ‘div2’, ‘div3’, ‘div4’, and ‘div5’       \n",
    "Create a loop that examines each number from 1 to 100 and:    \n",
    " If it is divisible by 2, put it in div2   (6 pts)    \n",
    " If it is divisible by 3, put it in div3   (6 pts)     \n",
    " If it is divisible by 4, put it in div4   (6 pts)    \n",
    " If it is divisible by 5, put it in div5   (6 pts)    \n",
    " Print all 5 of these lists"
   ]
  },
  {
   "cell_type": "code",
   "execution_count": 13,
   "metadata": {},
   "outputs": [
    {
     "name": "stdout",
     "output_type": "stream",
     "text": [
      "div2:  [2, 4, 6, 8, 10, 12, 14, 16, 18, 20, 22, 24, 26, 28, 30, 32, 34, 36, 38, 40, 42, 44, 46, 48, 50, 52, 54, 56, 58, 60, 62, 64, 66, 68, 70, 72, 74, 76, 78, 80, 82, 84, 86, 88, 90, 92, 94, 96, 98, 100]\n",
      "div3:  [3, 6, 9, 12, 15, 18, 21, 24, 27, 30, 33, 36, 39, 42, 45, 48, 51, 54, 57, 60, 63, 66, 69, 72, 75, 78, 81, 84, 87, 90, 93, 96, 99]\n",
      "div4:  [4, 8, 12, 16, 20, 24, 28, 32, 36, 40, 44, 48, 52, 56, 60, 64, 68, 72, 76, 80, 84, 88, 92, 96, 100]\n",
      "div5:  [5, 10, 15, 20, 25, 30, 35, 40, 45, 50, 55, 60, 65, 70, 75, 80, 85, 90, 95, 100]\n"
     ]
    }
   ],
   "source": [
    "div2 = []\n",
    "div3 = []\n",
    "div4 = []\n",
    "div5 = []\n",
    "for i in range(1, 101):\n",
    "    if (i%2 == 0):\n",
    "        div2.append(i)\n",
    "    if (i%3 == 0):\n",
    "        div3.append(i)\n",
    "    if (i%4 == 0):\n",
    "        div4.append(i)\n",
    "    if (i%5 == 0):\n",
    "        div5.append(i)\n",
    "print(\"div2: \", div2)\n",
    "print(\"div3: \", div3)\n",
    "print(\"div4: \", div4)\n",
    "print(\"div5: \", div5)"
   ]
  },
  {
   "cell_type": "markdown",
   "metadata": {},
   "source": [
    "10. Create a new list called “divOver5”   (3 pts)"
   ]
  },
  {
   "cell_type": "code",
   "execution_count": 14,
   "metadata": {},
   "outputs": [],
   "source": [
    "divOver5 = []"
   ]
  },
  {
   "cell_type": "markdown",
   "metadata": {},
   "source": [
    "11. Create a new loop that goes through each number 1 through 100 and appends it to divOver5 if it is NOT IN div2 or div3 or div4 or div5      \n",
    " You must use logical operators here.   \n",
    "Print divOver5   (10 points)    "
   ]
  },
  {
   "cell_type": "code",
   "execution_count": 16,
   "metadata": {},
   "outputs": [
    {
     "name": "stdout",
     "output_type": "stream",
     "text": [
      "[1, 7, 11, 13, 17, 19, 23, 29, 31, 37, 41, 43, 47, 49, 53, 59, 61, 67, 71, 73, 77, 79, 83, 89, 91, 97]\n"
     ]
    }
   ],
   "source": [
    "for i in range(1, 101):\n",
    "    if (i%2 !=0 and i%3!=0 and i%4!=0 and i%5!=0):\n",
    "        divOver5.append(i)\n",
    "print(divOver5)"
   ]
  },
  {
   "cell_type": "markdown",
   "metadata": {},
   "source": [
    "12. Create a function called exp3 that takes an int x, raises it to the third power.     \n",
    "Create a string in the function that says “x^3 = “ and concatenate x onto the end of the string.      \n",
    "Now return the string from the function.  Call the function exp3 and print what it returns.   (15 pts)"
   ]
  },
  {
   "cell_type": "code",
   "execution_count": 25,
   "metadata": {},
   "outputs": [
    {
     "name": "stdout",
     "output_type": "stream",
     "text": [
      "x^3 = 8\n"
     ]
    }
   ],
   "source": [
    "def exp3(x):\n",
    "    x = x**3\n",
    "    pow_string = \"x^3 = \"+ str(x)\n",
    "    return pow_string\n",
    "print(exp3(2))"
   ]
  },
  {
   "cell_type": "markdown",
   "metadata": {},
   "source": [
    "13. Iterate through the classes dictionary and print the keys    (5 pts)"
   ]
  },
  {
   "cell_type": "code",
   "execution_count": 26,
   "metadata": {},
   "outputs": [
    {
     "name": "stdout",
     "output_type": "stream",
     "text": [
      "math\n",
      "full stack\n",
      "intro to python\n"
     ]
    }
   ],
   "source": [
    "for key in classes.keys():\n",
    "    print(key)"
   ]
  },
  {
   "cell_type": "markdown",
   "metadata": {},
   "source": [
    "14. Iterate through the classes dictionary and print the values   (5 pts)"
   ]
  },
  {
   "cell_type": "code",
   "execution_count": 27,
   "metadata": {},
   "outputs": [
    {
     "name": "stdout",
     "output_type": "stream",
     "text": [
      "Ms. Philhower\n",
      "jaramillo\n",
      "ionut\n"
     ]
    }
   ],
   "source": [
    "for value in classes.values():\n",
    "    print(value)"
   ]
  },
  {
   "cell_type": "markdown",
   "metadata": {},
   "source": [
    "(Worth +10 points) Extra Points:   \n",
    "Create a class called Student that has the properties:    \n",
    "\tname (holds student name)    \n",
    "\tage (holds student age)    \n",
    "\tbirthmonth (hold students birthmonth)\n",
    "\t\n",
    "\tA count variable exists that is set to 0 (see lecture) and upon each call to the class this variable increments     \n",
    "\n",
    "\t2 functions in the class:  displayName which returns the name of the student and displayBirthmonth which returns the birth month of the student    \n",
    "\n",
    "\tNow create 3 students, use whatever data you want.       \n",
    "\tCall displayName() on student1     \n",
    "\tCall displayBirthmonth() on student2    \n",
    "\tprint the student count    \n"
   ]
  },
  {
   "cell_type": "code",
   "execution_count": 29,
   "metadata": {},
   "outputs": [
    {
     "name": "stdout",
     "output_type": "stream",
     "text": [
      "carolina\n",
      "April\n",
      "3\n"
     ]
    }
   ],
   "source": [
    "class Student:\n",
    "    count = 0\n",
    "    def __init__(self, name, age, birthmonth):\n",
    "        self.name = name\n",
    "        self.age = age\n",
    "        self.birthmonth = birthmonth\n",
    "        Student.count += 1\n",
    "    def displayName(self):\n",
    "        print(self.name)\n",
    "    def displayBirthmonth(self):\n",
    "        print(self.birthmonth)\n",
    "    \n",
    "s1 = Student(\"carolina\", 20, \"April\")\n",
    "s2 = Student(\"raul\", 17, \"April\")\n",
    "s3 = Student(\"cleo\", 40, \"April\")\n",
    "s1.displayName()\n",
    "s2.displayBirthmonth()\n",
    "print(s3.count)"
   ]
  },
  {
   "cell_type": "markdown",
   "metadata": {},
   "source": [
    "### PART 2"
   ]
  },
  {
   "cell_type": "markdown",
   "metadata": {},
   "source": [
    "This part will require you to use the film_results.txt file provided on Canvas. You will also need to import NumPy and Pandas."
   ]
  },
  {
   "cell_type": "markdown",
   "metadata": {},
   "source": [
    "1. Move the film_results.txt file from Blackboard into your project directory.     \n",
    " Create 3 lists, one for states, one for shows, and one for viewers.     \n",
    " Ingest data from text file and put it into a NumPy array (show_results.txt)      \n",
    "\tItll look like a nested list.       \n",
    "          [ [‘Oregon’, ‘Once Upon a Time’, ‘4075’] [...] …]     \n",
    " Print the raw data   (10 pts)    "
   ]
  },
  {
   "cell_type": "code",
   "execution_count": 41,
   "metadata": {},
   "outputs": [],
   "source": [
    "import numpy as np\n",
    "import pandas as pd\n",
    "\n",
    "file = \"film_results.txt\"\n",
    "\n",
    "states = []\n",
    "shows = []\n",
    "viewers = []\n",
    "\n",
    "# with open(file, 'r') as f:\n",
    "#     for line in f:\n",
    "#         data = line.strip().split(',')\n",
    "#         states.append(data[0])\n",
    "#         shows.append(data[1])\n",
    "#         viewers.append(data[2])\n",
    "\n",
    "data_array = np.loadtxt(file, delimiter=',', dtype='str')\n",
    "\n",
    "# file=open(\"show_results.txt\", \"w+\")\n",
    "# content = str(data_array)\n",
    "# file.write(content)\n",
    "# file.close()"
   ]
  },
  {
   "cell_type": "markdown",
   "metadata": {},
   "source": [
    "2.  Take the data from the NumPy array and sort it by state, show and viewers, putting each into the appropriate lists you defined earlier.  (so now you have 3 lists, one with states, one with shows and one with viewer counts.)  No duplicates in the states and shows.  Duplicates can and should exist in the viewers.      \n",
    "So the states list will look like this: ['Washington', 'Nevada', 'Idaho', 'California', 'Oregon']      \n",
    " Print these unsorted lists    (5 pts)"
   ]
  },
  {
   "cell_type": "code",
   "execution_count": 49,
   "metadata": {},
   "outputs": [
    {
     "name": "stdout",
     "output_type": "stream",
     "text": [
      "['Oregon', 'Washington', 'Nevada', 'Idaho', 'California']\n",
      "['Once Upon a Time', 'Vikings', 'Game of Thrones', 'Daredevil', 'The Flash', 'Gotham', 'The Walking Dead', 'Suits', 'Better Call Saul', 'Orange is the New Black']\n",
      "['4075', '3739', '3997', '1682', '8983', '145', '2663', '6361', '6788', '3064', '9389', '4301', '7328', '9003', '8575', '3239', '6695', '594', '3793', '8544', '1059', '8200', '1856', '2871', '9574', '5218', '6256', '8581', '2460', '728', '7495', '2103', '8179', '1144', '7514', '271', '4353', '7647', '3408', '8443', '1970', '1711', '825', '7875', '1333', '9753', '4233', '1349', '1473', '4176', '2193', '8477', '6834', '2569', '8284', '4729', '4988', '1177', '9210', '6374', '9114', '9049', '6639', '5225', '6207', '6859', '1314', '6491', '5764', '960', '5205', '2241', '6930', '3699', '8447', '3784', '9469', '4746', '8430', '742', '9322', '3254', '5103', '7291', '8395', '7304', '2707', '2547', '5555', '6505', '1817', '7268', '8161', '517', '2439', '7332', '6149']\n"
     ]
    }
   ],
   "source": [
    "for x in data_array:\n",
    "    states.append(str(x[0]))\n",
    "    shows.append(str(x[1]))\n",
    "    viewers.append(x[2])\n",
    "\n",
    "new_states = []\n",
    "new_shows = []\n",
    "new_viewers = []\n",
    "seen_states = set()\n",
    "seen_shows = set()\n",
    "seen_viewers = set()\n",
    "\n",
    "for state, show, viewer in zip(states, shows, viewers):\n",
    "    if state not in seen_states:\n",
    "        new_states.append(state)\n",
    "        seen_states.add(state)\n",
    "    if show not in seen_shows:\n",
    "        new_shows.append(show)\n",
    "        seen_shows.add(show)\n",
    "    if viewer not in seen_viewers:\n",
    "        new_viewers.append(viewer)\n",
    "        seen_viewers.add(viewer)\n",
    "\n",
    "print(new_states)\n",
    "print(new_shows)\n",
    "print(new_viewers)"
   ]
  },
  {
   "cell_type": "markdown",
   "metadata": {},
   "source": [
    "3. Convert all 3 lists into NumPy arrays     \n",
    " print new NumPy Arrays    (10 pts)"
   ]
  },
  {
   "cell_type": "code",
   "execution_count": 50,
   "metadata": {},
   "outputs": [
    {
     "name": "stdout",
     "output_type": "stream",
     "text": [
      "['Oregon' 'Washington' 'Nevada' 'Idaho' 'California']\n",
      "['Once Upon a Time' 'Vikings' 'Game of Thrones' 'Daredevil' 'The Flash'\n",
      " 'Gotham' 'The Walking Dead' 'Suits' 'Better Call Saul'\n",
      " 'Orange is the New Black']\n",
      "['4075' '3739' '3997' '1682' '8983' '145' '2663' '6361' '6788' '3064'\n",
      " '9389' '4301' '7328' '9003' '8575' '3239' '6695' '594' '3793' '8544'\n",
      " '1059' '8200' '1856' '2871' '9574' '5218' '6256' '8581' '2460' '728'\n",
      " '7495' '2103' '8179' '1144' '7514' '271' '4353' '7647' '3408' '8443'\n",
      " '1970' '1711' '825' '7875' '1333' '9753' '4233' '1349' '1473' '4176'\n",
      " '2193' '8477' '6834' '2569' '8284' '4729' '4988' '1177' '9210' '6374'\n",
      " '9114' '9049' '6639' '5225' '6207' '6859' '1314' '6491' '5764' '960'\n",
      " '5205' '2241' '6930' '3699' '8447' '3784' '9469' '4746' '8430' '742'\n",
      " '9322' '3254' '5103' '7291' '8395' '7304' '2707' '2547' '5555' '6505'\n",
      " '1817' '7268' '8161' '517' '2439' '7332' '6149']\n"
     ]
    }
   ],
   "source": [
    "import numpy\n",
    "nmpy_states = numpy.array(new_states)\n",
    "nmpy_shows = numpy.array(new_shows)\n",
    "nmpy_viewers = numpy.array(new_viewers)\n",
    "\n",
    "print(nmpy_states)\n",
    "print(nmpy_shows)\n",
    "print(nmpy_viewers)"
   ]
  },
  {
   "cell_type": "markdown",
   "metadata": {},
   "source": [
    "4. Sort the States and Shows arrays      \n",
    "\tNow your States array will look like:      \n",
    "\t['California', 'Idaho', 'Nevada', 'Oregon', 'Washington']      \n",
    "Convert the Viewers array from STRINGS into INTS      \n",
    "Sum up viewers list into one variable (you can do this in one line)       \n",
    "Print: Sorted arrays (states and shows), viewers list (as ints), and the variable that is the sum of the viewers list.        (30 pts)"
   ]
  },
  {
   "cell_type": "code",
   "execution_count": 56,
   "metadata": {},
   "outputs": [
    {
     "name": "stdout",
     "output_type": "stream",
     "text": [
      "['California' 'Idaho' 'Nevada' 'Oregon' 'Washington']\n",
      "['Better Call Saul' 'Daredevil' 'Game of Thrones' 'Gotham'\n",
      " 'Once Upon a Time' 'Orange is the New Black' 'Suits' 'The Flash'\n",
      " 'The Walking Dead' 'Vikings']\n",
      "[4075, 3739, 3997, 1682, 8983, 145, 2663, 6361, 6788, 3064, 9389, 4301, 7328, 9003, 8575, 3239, 6695, 594, 3793, 8544, 1059, 8200, 1856, 2871, 9574, 5218, 6256, 8581, 2460, 728, 7495, 2103, 8179, 1144, 7514, 271, 4353, 7647, 3408, 8443, 1970, 1711, 825, 7875, 1333, 9753, 4233, 1349, 1473, 4176, 2193, 8477, 6834, 2569, 8284, 4729, 4988, 1177, 9210, 6374, 9114, 9049, 6639, 5225, 4988, 2103, 6207, 6859, 1314, 6491, 5764, 960, 5205, 2241, 6930, 3699, 8447, 3784, 9469, 4746, 8430, 742, 9322, 3254, 5103, 7291, 8395, 7304, 2707, 2547, 5555, 6505, 1817, 7268, 8161, 517, 2439, 7332, 6149, 4075, 3739, 3997, 1682, 8983, 145, 2663, 6361, 6788, 3064, 9389, 4301, 7328, 9003, 8575, 3239, 6695, 594, 3793, 8544, 1059, 8200, 1856, 2871, 9574, 5218, 6256, 8581, 2460, 728, 7495, 2103, 8179, 1144, 7514, 271, 4353, 7647, 3408, 8443, 1970, 1711, 825, 7875, 1333, 9753, 4233, 1349, 1473, 4176, 2193, 8477, 6834, 2569, 8284, 4729, 4988, 1177, 9210, 6374, 9114, 9049, 6639, 5225, 4988, 2103, 6207, 6859, 1314, 6491, 5764, 960, 5205, 2241, 6930, 3699, 8447, 3784, 9469, 4746, 8430, 742, 9322, 3254, 5103, 7291, 8395, 7304, 2707, 2547, 5555, 6505, 1817, 7268, 8161, 517, 2439, 7332, 6149, 4075, 3739, 3997, 1682, 8983, 145, 2663, 6361, 6788, 3064, 9389, 4301, 7328, 9003, 8575, 3239, 6695, 594, 3793, 8544, 1059, 8200, 1856, 2871, 9574, 5218, 6256, 8581, 2460, 728, 7495, 2103, 8179, 1144, 7514, 271, 4353, 7647, 3408, 8443, 1970, 1711, 825, 7875, 1333, 9753, 4233, 1349, 1473, 4176, 2193, 8477, 6834, 2569, 8284, 4729, 4988, 1177, 9210, 6374, 9114, 9049, 6639, 5225, 4988, 2103, 6207, 6859, 1314, 6491, 5764, 960, 5205, 2241, 6930, 3699, 8447, 3784, 9469, 4746, 8430, 742, 9322, 3254, 5103, 7291, 8395, 7304, 2707, 2547, 5555, 6505, 1817, 7268, 8161, 517, 2439, 7332, 6149, 4075, 3739, 3997, 1682, 8983, 145, 2663, 6361, 6788, 3064, 9389, 4301, 7328, 9003, 8575, 3239, 6695, 594, 3793, 8544, 1059, 8200, 1856, 2871, 9574, 5218, 6256, 8581, 2460, 728, 7495, 2103, 8179, 1144, 7514, 271, 4353, 7647, 3408, 8443, 1970, 1711, 825, 7875, 1333, 9753, 4233, 1349, 1473, 4176, 2193, 8477, 6834, 2569, 8284, 4729, 4988, 1177, 9210, 6374, 9114, 9049, 6639, 5225, 4988, 2103, 6207, 6859, 1314, 6491, 5764, 960, 5205, 2241, 6930, 3699, 8447, 3784, 9469, 4746, 8430, 742, 9322, 3254, 5103, 7291, 8395, 7304, 2707, 2547, 5555, 6505, 1817, 7268, 8161, 517, 2439, 7332, 6149, 4075, 3739, 3997, 1682, 8983, 145, 2663, 6361, 6788, 3064, 9389, 4301, 7328, 9003, 8575, 3239, 6695, 594, 3793, 8544, 1059, 8200, 1856, 2871, 9574, 5218, 6256, 8581, 2460, 728, 7495, 2103, 8179, 1144, 7514, 271, 4353, 7647, 3408, 8443, 1970, 1711, 825, 7875, 1333, 9753, 4233, 1349, 1473, 4176, 2193, 8477, 6834, 2569, 8284, 4729, 4988, 1177, 9210, 6374, 9114, 9049, 6639, 5225, 4988, 2103, 6207, 6859, 1314, 6491, 5764, 960, 5205, 2241, 6930, 3699, 8447, 3784, 9469, 4746, 8430, 742, 9322, 3254, 5103, 7291, 8395, 7304, 2707, 2547, 5555, 6505, 1817, 7268, 8161, 517, 2439, 7332, 6149, 4075, 3739, 3997, 1682, 8983, 145, 2663, 6361, 6788, 3064, 9389, 4301, 7328, 9003, 8575, 3239, 6695, 594, 3793, 8544, 1059, 8200, 1856, 2871, 9574, 5218, 6256, 8581, 2460, 728, 7495, 2103, 8179, 1144, 7514, 271, 4353, 7647, 3408, 8443, 1970, 1711, 825, 7875, 1333, 9753, 4233, 1349, 1473, 4176, 2193, 8477, 6834, 2569, 8284, 4729, 4988, 1177, 9210, 6374, 9114, 9049, 6639, 5225, 4988, 2103, 6207, 6859, 1314, 6491, 5764, 960, 5205, 2241, 6930, 3699, 8447, 3784, 9469, 4746, 8430, 742, 9322, 3254, 5103, 7291, 8395, 7304, 2707, 2547, 5555, 6505, 1817, 7268, 8161, 517, 2439, 7332, 6149]\n",
      "Sum:  2999538\n"
     ]
    }
   ],
   "source": [
    "sorted_nmpy_states = np.sort(nmpy_states)\n",
    "sorted_nmpy_shows = np.sort(nmpy_shows)\n",
    "print(sorted_nmpy_states)\n",
    "print(sorted_nmpy_shows)\n",
    "sum = 0\n",
    "for x in range(0, len(viewers)):\n",
    "    viewers[x] = int(viewers[x])\n",
    "    sum = sum + viewers[x]\n",
    "print(viewers)\n",
    "print(\"Sum: \", sum)"
   ]
  },
  {
   "cell_type": "markdown",
   "metadata": {},
   "source": [
    "5. Create 2 DataFrames:      \n",
    "show_raw_stats: index = numpy sorted array of SHOWS; columns = numpy sorted array of STATES      \n",
    "show_agg_stats: index = same as above; columns= a list with the words Max, Min, Totals and Percent in it (like this… [‘Max’,’Min’,’Totals’, ‘Percent’]        \n",
    "Populate show_raw_stats with data from the Original Array ingested from film_results.txt. \n",
    "Populate the Max, Min, Totals, and Percent in show_agg_stats using the DataFrame native functionality    \n",
    "Print both dataframe   (30 pts)     \n",
    "\n",
    "HINT:  You will need to create a loop here that basically goes the length of the original array, and on each iteration, it grabs the STATE, SHOW, and VIEWERS number (itll be a string so youll have to convert it…).    \n",
    "The final step of each iteration will be placing it in the dataframe in the correct spot as an accumulation. +=      (Otherwise you just writing over the value there)     \n"
   ]
  },
  {
   "cell_type": "code",
   "execution_count": 63,
   "metadata": {},
   "outputs": [
    {
     "name": "stdout",
     "output_type": "stream",
     "text": [
      "                        California Idaho Nevada Oregon Washington\n",
      "Better Call Saul              8430  8179   7268   9322       3784\n",
      "Daredevil                     7304  1817   5555   6149       2241\n",
      "Game of Thrones               7332   742   9469   2460       2547\n",
      "Gotham                        1473  4176   8575   6505       6834\n",
      "Once Upon a Time              9753  6930   6639   4075       2103\n",
      "Orange is the New Black       7291  5225   1349   1144       3699\n",
      "Suits                         1314  1333   2707   6207       2871\n",
      "The Flash                     3254  6491   3793   8395       4988\n",
      "The Walking Dead              4353  6256    825   8447       4301\n",
      "Vikings                       1059  5218   8161   1711        728\n",
      "                          Max   Min Totals   Percent\n",
      "Better Call Saul         9322  3784  36983  739660.0\n",
      "Daredevil                7304  1817  23066  461320.0\n",
      "Game of Thrones          9469   742  22550  451000.0\n",
      "Gotham                   8575  1473  27563  551260.0\n",
      "Once Upon a Time         9753  2103  29500  590000.0\n",
      "Orange is the New Black  7291  1144  18708  374160.0\n",
      "Suits                    6207  1314  14432  288640.0\n",
      "The Flash                8395  3254  26921  538420.0\n",
      "The Walking Dead         8447   825  24182  483640.0\n",
      "Vikings                  8161   728  16877  337540.0\n"
     ]
    }
   ],
   "source": [
    "import pandas\n",
    "# list_of_tuples = list(zip(sorted_nmpy_shows, sorted_nmpy_states))\n",
    "show_raw_stats = pandas.DataFrame(index=sorted_nmpy_shows, columns=sorted_nmpy_states)\n",
    "values = ['Max', 'Min','Totals', 'Percent']\n",
    "show_agg_stats = pandas.DataFrame(index=sorted_nmpy_shows, columns=values)\n",
    "for state, show, viewer_count in data_array:\n",
    "    show_raw_stats.loc[show, state] = int(viewer_count)\n",
    "print(show_raw_stats)\n",
    "for show in sorted_nmpy_shows:\n",
    "    show_data = show_raw_stats.loc[show]\n",
    "    max_value = show_data.max()\n",
    "    min_value = show_data.min()\n",
    "    total = show_data.sum()\n",
    "    percent = (total / show_data.size) * 100\n",
    "    show_agg_stats.loc[show] = [max_value, min_value, total, percent]\n",
    "\n",
    "print(show_agg_stats)"
   ]
  },
  {
   "cell_type": "markdown",
   "metadata": {},
   "source": [
    "### Please try to follow the directions as closely as possible.  You might think of better ways to implement this, with less lines of code the skips steps and thats great, but not for this assignment.  If you do think of these, put them in comments and extra points will be given for those but follow these steps."
   ]
  },
  {
   "cell_type": "markdown",
   "metadata": {},
   "source": [
    "6. Print the answer to these questions in a Markdown cell, do not print them with Python:        \n",
    "Which Show has the highest percentage?   (5 pts)      \n",
    "Which Show has the lowest percentage?    (5 pts)     \n",
    "Which show is your favorite?             (5 pts)     "
   ]
  },
  {
   "cell_type": "markdown",
   "metadata": {},
   "source": [
    "The show with the highest percentage is Better Call Saul\n",
    "The show with the lowest percentage is Suits\n",
    "My favorite show of the ones in this list is The Flash"
   ]
  },
  {
   "cell_type": "markdown",
   "metadata": {},
   "source": []
  }
 ],
 "metadata": {
  "kernelspec": {
   "display_name": "base",
   "language": "python",
   "name": "python3"
  },
  "language_info": {
   "codemirror_mode": {
    "name": "ipython",
    "version": 3
   },
   "file_extension": ".py",
   "mimetype": "text/x-python",
   "name": "python",
   "nbconvert_exporter": "python",
   "pygments_lexer": "ipython3",
   "version": "3.11.7"
  }
 },
 "nbformat": 4,
 "nbformat_minor": 2
}
